{
  "nbformat": 4,
  "nbformat_minor": 0,
  "metadata": {
    "colab": {
      "provenance": [],
      "collapsed_sections": [],
      "authorship_tag": "ABX9TyMTzCVyKuLVRUK9AhqufDgh",
      "include_colab_link": true
    },
    "kernelspec": {
      "name": "python3",
      "display_name": "Python 3"
    },
    "language_info": {
      "name": "python"
    }
  },
  "cells": [
    {
      "cell_type": "markdown",
      "metadata": {
        "id": "view-in-github",
        "colab_type": "text"
      },
      "source": [
        "<a href=\"https://colab.research.google.com/github/rheafranz0922/Classwork-tasks/blob/main/Chapter_1.ipynb\" target=\"_parent\"><img src=\"https://colab.research.google.com/assets/colab-badge.svg\" alt=\"Open In Colab\"/></a>"
      ]
    },
    {
      "cell_type": "markdown",
      "source": [
        "Excercise 1: Write a Python program to print the following string in a specific format.\n",
        "\n",
        "Twinkle, twinkle, little star, How I wonder what you are! Up above the world so high, Like a diamond in the sky. Twinkle, twinkle, little star, How I wonder what you are"
      ],
      "metadata": {
        "id": "BY87OwR9Fy6N"
      }
    },
    {
      "cell_type": "code",
      "source": [
        "print('Twinkle, twinkle, little star')\n",
        "print('How I wonder what you are! Up above the world so high,')\n",
        "print('Like a diamond in the sky')\n",
        "print('Twinkle, twinkle, little star')\n",
        "print('How I wonder what you are')"
      ],
      "metadata": {
        "colab": {
          "base_uri": "https://localhost:8080/"
        },
        "id": "S42NwOWhF-5-",
        "outputId": "cee2d908-782d-4897-8277-eb4c8f690481"
      },
      "execution_count": null,
      "outputs": [
        {
          "output_type": "stream",
          "name": "stdout",
          "text": [
            "Twinkle, twinkle, little star\n",
            "How I wonder what you are! Up above the world so high,\n",
            "Like a diamond in the sky\n",
            "Twinkle, twinkle, little star\n",
            "How I wonder what you are\n"
          ]
        }
      ]
    },
    {
      "cell_type": "markdown",
      "source": [
        "Exercise 2: Print the Version of Python\n",
        "\n",
        "Write a Python program to get the Python version you are using.\n"
      ],
      "metadata": {
        "id": "GMK-BC2nG3VB"
      }
    },
    {
      "cell_type": "code",
      "source": [
        "import sys\n",
        "print (\"Python version\")\n",
        "print(sys.version)\n",
        "\n",
        "print (\"Version info.\")\n",
        "print(sys.version_info)"
      ],
      "metadata": {
        "colab": {
          "base_uri": "https://localhost:8080/"
        },
        "id": "4LmY76jYHKGV",
        "outputId": "dbbce59d-c034-44dd-add5-f9a20c36aa51"
      },
      "execution_count": null,
      "outputs": [
        {
          "output_type": "stream",
          "name": "stdout",
          "text": [
            "Python version\n",
            "3.7.15 (default, Oct 12 2022, 19:14:55) \n",
            "[GCC 7.5.0]\n",
            "Version info.\n",
            "sys.version_info(major=3, minor=7, micro=15, releaselevel='final', serial=0)\n"
          ]
        }
      ]
    },
    {
      "cell_type": "markdown",
      "source": [
        "Excercise 3: Print date and Time\n",
        "\n",
        "Write a Python program to display the current date and time."
      ],
      "metadata": {
        "id": "RWlWiuwiH-vr"
      }
    },
    {
      "cell_type": "code",
      "source": [
        "import datetime\n",
        "now = datetime.datetime.now()\n",
        "print(\"Current date and time\")\n",
        "print(now.strftime(\"%Y-%m-%d %H:%M:%S\"))"
      ],
      "metadata": {
        "colab": {
          "base_uri": "https://localhost:8080/"
        },
        "id": "pZqa5o6mIMVt",
        "outputId": "dce0d51b-29eb-4277-b139-210ac1aaf506"
      },
      "execution_count": null,
      "outputs": [
        {
          "output_type": "stream",
          "name": "stdout",
          "text": [
            "Current date and time\n",
            "2022-10-24 08:39:23\n"
          ]
        }
      ]
    },
    {
      "cell_type": "markdown",
      "source": [
        "Excercise 4: Strings Concatination\n",
        "\n",
        "Write three strings in different variables and print the output as one string."
      ],
      "metadata": {
        "id": "RKwAUDMMJbLM"
      }
    },
    {
      "cell_type": "code",
      "source": [
        "a,b,c = 250, 300, 420\n",
        "print(a) # 250\n",
        "print(b) # 300\n",
        "print(c) # 420"
      ],
      "metadata": {
        "colab": {
          "base_uri": "https://localhost:8080/"
        },
        "id": "vK2Q-XSWJ5Xf",
        "outputId": "999ce2f8-9c0c-4089-f6f0-a36202279390"
      },
      "execution_count": null,
      "outputs": [
        {
          "output_type": "stream",
          "name": "stdout",
          "text": [
            "250\n",
            "300\n",
            "420\n"
          ]
        }
      ]
    },
    {
      "cell_type": "markdown",
      "source": [
        "Excercise 5: Compute area of Circle\n",
        "\n",
        "Write a Python program which accepts the radius of a circle from the user and compute the area."
      ],
      "metadata": {
        "id": "q3QvQJruKlop"
      }
    },
    {
      "cell_type": "code",
      "source": [
        "from math import pi\n",
        "r = float(input(\"input the radius of the circle:\"))\n",
        "print(\"The area of the circle with the radius of the circle with radius\"+ str(r) + \"is:\" + str(pi * r**2))"
      ],
      "metadata": {
        "colab": {
          "base_uri": "https://localhost:8080/"
        },
        "id": "6OgILFFsLD5a",
        "outputId": "2f3a3d85-baf4-4905-bc46-4c2bbe4a3490"
      },
      "execution_count": null,
      "outputs": [
        {
          "output_type": "stream",
          "name": "stdout",
          "text": [
            "input the radius of the circle:600\n",
            "The area of the circle with the radius of the circle with radius600.0is:1130973.3552923256\n"
          ]
        }
      ]
    }
  ]
}