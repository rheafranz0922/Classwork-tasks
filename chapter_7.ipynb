{
  "nbformat": 4,
  "nbformat_minor": 0,
  "metadata": {
    "colab": {
      "provenance": [],
      "collapsed_sections": [],
      "authorship_tag": "ABX9TyMYXCJPkYg+eJtWmmJ8N0L3",
      "include_colab_link": true
    },
    "kernelspec": {
      "name": "python3",
      "display_name": "Python 3"
    },
    "language_info": {
      "name": "python"
    }
  },
  "cells": [
    {
      "cell_type": "markdown",
      "metadata": {
        "id": "view-in-github",
        "colab_type": "text"
      },
      "source": [
        "<a href=\"https://colab.research.google.com/github/rheafranz0922/Classwork-tasks/blob/main/chapter_7.ipynb\" target=\"_parent\"><img src=\"https://colab.research.google.com/assets/colab-badge.svg\" alt=\"Open In Colab\"/></a>"
      ]
    },
    {
      "cell_type": "markdown",
      "source": [
        "Exercise 1:   Message \n",
        "\n",
        "Write a function called display_message() that prints one sentence telling everyone what you are learning about in this chapter. Call the\n",
        "function, and make sure the message displays correctly."
      ],
      "metadata": {
        "id": "mKr1skDLdB2a"
      }
    },
    {
      "cell_type": "code",
      "source": [
        "def display_message():\n",
        "    \"\"\"Display a message about what I'm learning.\"\"\"\n",
        "    msg = \"I'm learning the store code in functions.\"\n",
        "    print(msg)\n",
        "\n",
        "display_message()"
      ],
      "metadata": {
        "colab": {
          "base_uri": "https://localhost:8080/"
        },
        "id": "_dUZTeUHdLwC",
        "outputId": "63f3aeb4-5965-427f-d741-fff86d9fe535"
      },
      "execution_count": null,
      "outputs": [
        {
          "output_type": "stream",
          "name": "stdout",
          "text": [
            "I'm learning the store code in functions.\n"
          ]
        }
      ]
    },
    {
      "cell_type": "markdown",
      "source": [
        "Exercise 2: Favorite Book\n",
        "Write a function called favorite_book() that accepts one parameter, title. The function should print a message, such as One of my\n",
        "favorite books is Alice in Wonderland. Call the function, making sure to include a book title as an argument in the function call.\n"
      ],
      "metadata": {
        "id": "O9SOFTmnki4q"
      }
    },
    {
      "cell_type": "code",
      "source": [
        "def favorite_book(title):\n",
        "    \"\"\"Display a message about someone's favorite book.\"\"\"\n",
        "    print(title + \" is one of my favorite books.\")\n",
        "\n",
        "favorite_book('The red riding hood')"
      ],
      "metadata": {
        "colab": {
          "base_uri": "https://localhost:8080/"
        },
        "id": "QnMunFPglz70",
        "outputId": "9f6e547c-a6f3-443e-f601-f27751b43c7c"
      },
      "execution_count": null,
      "outputs": [
        {
          "output_type": "stream",
          "name": "stdout",
          "text": [
            "The red riding hood is one of my favorite books.\n"
          ]
        }
      ]
    },
    {
      "cell_type": "markdown",
      "source": [
        "Exercise 3: T-Shirt \n",
        "\n",
        "Write a function called make_shirt() that accepts a size and the text of a message that should be printed on the shirt. The function \n",
        "should print a sentence summarizing the size of the shirt and the message printed on it. Call the function once using positional \n",
        "arguments to make a shirt. Call the function a second time using keyword arguments."
      ],
      "metadata": {
        "id": "Dt4jJ-KumM8N"
      }
    },
    {
      "cell_type": "code",
      "source": [
        "def make_shirt(size, message):\n",
        "    \"\"\"Summarize the shirt that's going to be made.\"\"\"\n",
        "    print(\"\\nI am going to make a \" + size + \" t-shirt.\")\n",
        "    print('It will say, \"' + message + '\"')\n",
        "\n",
        "make_shirt('large', 'I love happy ending')\n",
        "make_shirt(message=\"Hearts.\", size='medium')"
      ],
      "metadata": {
        "colab": {
          "base_uri": "https://localhost:8080/"
        },
        "id": "vP-ROqILmbx2",
        "outputId": "e4d8e18c-8a94-4d84-f46c-a3155dfd83fa"
      },
      "execution_count": null,
      "outputs": [
        {
          "output_type": "stream",
          "name": "stdout",
          "text": [
            "\n",
            "I am going to make a large t-shirt.\n",
            "It will say, \"I love happy ending\"\n",
            "\n",
            "I am going to make a medium t-shirt.\n",
            "It will say, \"Hearts.\"\n"
          ]
        }
      ]
    },
    {
      "cell_type": "markdown",
      "source": [
        "Exercise 4:  Large Shirts \n",
        "\n",
        "Modify the make_shirt() function so that shirts are large by default with a message that reads I love Python. Make a large shirt and a\n",
        "medium shirt with the default message, and a shirt of any size with a different message."
      ],
      "metadata": {
        "id": "w-MmsGDPoAvL"
      }
    },
    {
      "cell_type": "code",
      "source": [
        "def make_shirt(size='large', message='I love Python!'):\n",
        "    \"\"\"Summarize the shirt that's going to be made.\"\"\"\n",
        "    print(\"\\nI'm going to make a \" + size + \" t-shirt.\")\n",
        "    print('It will say, \"' + message + '\"')\n",
        "\n",
        "make_shirt()\n",
        "make_shirt(size='medium')\n",
        "make_shirt('small', 'Programmers is my bestfriends.')"
      ],
      "metadata": {
        "colab": {
          "base_uri": "https://localhost:8080/"
        },
        "id": "AxvP7O6ioV5x",
        "outputId": "81f0dd6e-10a4-46ae-9ae8-7c383a254f91"
      },
      "execution_count": null,
      "outputs": [
        {
          "output_type": "stream",
          "name": "stdout",
          "text": [
            "\n",
            "I'm going to make a large t-shirt.\n",
            "It will say, \"I love Python!\"\n",
            "\n",
            "I'm going to make a medium t-shirt.\n",
            "It will say, \"I love Python!\"\n",
            "\n",
            "I'm going to make a small t-shirt.\n",
            "It will say, \"Programmers is my bestfriends.\"\n"
          ]
        }
      ]
    },
    {
      "cell_type": "markdown",
      "source": [
        "Exercise 5: Cities\n",
        "\n",
        "Write a function called describe_city() that accepts the name of a city and its country. The function should print a simple sentence, \n",
        "such as Reykjavik is in Iceland. Give the parameter for the country a default value.\n",
        "Call your function for three different cities, at least one of which is not in the default country."
      ],
      "metadata": {
        "id": "siol3j76pndf"
      }
    },
    {
      "cell_type": "code",
      "source": [
        "def describe_city(city, country='korea'):\n",
        "    \"\"\"Describe a city.\"\"\"\n",
        "    msg = city.title() + \" is in \" + country.title() + \".\"\n",
        "    print(msg)\n",
        "\n",
        "describe_city('seoul')\n",
        "describe_city('reykjavik', 'iceland')\n",
        "describe_city('manila', 'philippine')"
      ],
      "metadata": {
        "colab": {
          "base_uri": "https://localhost:8080/"
        },
        "id": "EgbadqZipu0n",
        "outputId": "bea9d61b-ee03-4dad-a6f0-ea0f98287730"
      },
      "execution_count": null,
      "outputs": [
        {
          "output_type": "stream",
          "name": "stdout",
          "text": [
            "Seoul is in Korea.\n",
            "Reykjavik is in Iceland.\n",
            "Manila is in Philippine.\n"
          ]
        }
      ]
    }
  ]
}