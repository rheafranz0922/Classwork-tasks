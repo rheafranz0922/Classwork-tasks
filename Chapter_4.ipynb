{
  "nbformat": 4,
  "nbformat_minor": 0,
  "metadata": {
    "colab": {
      "provenance": [],
      "collapsed_sections": [],
      "authorship_tag": "ABX9TyMmg+4l4bZzI5saUVJ/XEi2",
      "include_colab_link": true
    },
    "kernelspec": {
      "name": "python3",
      "display_name": "Python 3"
    },
    "language_info": {
      "name": "python"
    }
  },
  "cells": [
    {
      "cell_type": "markdown",
      "metadata": {
        "id": "view-in-github",
        "colab_type": "text"
      },
      "source": [
        "<a href=\"https://colab.research.google.com/github/rheafranz0922/Classwork-tasks/blob/main/Chapter_4.ipynb\" target=\"_parent\"><img src=\"https://colab.research.google.com/assets/colab-badge.svg\" alt=\"Open In Colab\"/></a>"
      ]
    },
    {
      "cell_type": "markdown",
      "source": [
        "Exercise 1:  Alien Colors #1 :ballot_box_with_check:\n",
        "\n",
        "Imagine an alien was just shot down in a game. Create a variable called alien_color and assign it a value of 'green', 'yellow', or 'red'.\n",
        "\n",
        "•Write an if statement to test whether the alien’s color is green. If it is, print a message that the player just earned 5 points.\n",
        "\n",
        "•Write one version of this program that passes the if test and another that fails. (The version that fails will have no output.)\n"
      ],
      "metadata": {
        "id": "GDeo_FVTDdPT"
      }
    },
    {
      "cell_type": "code",
      "source": [
        "print('Is the alien color green, yellow, or red')\n",
        "x=str(input())\n",
        "\n",
        "if x == \"green\" :\n",
        "  print('The prayer earns 5 points')"
      ],
      "metadata": {
        "colab": {
          "base_uri": "https://localhost:8080/"
        },
        "id": "vSNo0xN1EjAf",
        "outputId": "757f7041-889e-45dd-bd58-6ead71633592"
      },
      "execution_count": null,
      "outputs": [
        {
          "output_type": "stream",
          "name": "stdout",
          "text": [
            "Is the alien color green, yellow, or red\n",
            "green\n",
            "The prayer earns 5 points\n"
          ]
        }
      ]
    },
    {
      "cell_type": "markdown",
      "source": [
        "Exercise 2: Alien Colors \n",
        "\n",
        "Choose a color for an alien as you did in Exercise 5-3, and write an if-else chain.\n",
        "\n",
        "•If the alien’s color is green, print a statement that the player just earned 5 points for shooting the alien.\n",
        "\n",
        "•If the alien’s color isn’t green, print a statement that the player just earned 10 points.\n",
        "\n",
        "•Write one version of this program that runs the if block and another that runs the else block.\n",
        "\n",
        "\n"
      ],
      "metadata": {
        "id": "wTYmmLVdFiKd"
      }
    },
    {
      "cell_type": "code",
      "source": [
        "print('Is the alien color green, yellow, or red')\n",
        "x=str(input())\n",
        "\n",
        "if x == \"green\" :\n",
        "  print('The player earns 5 points')\n",
        "\n",
        "else:\n",
        "  print('The player earns 10 points')"
      ],
      "metadata": {
        "colab": {
          "base_uri": "https://localhost:8080/"
        },
        "id": "VExNDEZzFrZq",
        "outputId": "03e1ed99-d035-4f0d-f77e-e125106fc8b7"
      },
      "execution_count": null,
      "outputs": [
        {
          "output_type": "stream",
          "name": "stdout",
          "text": [
            "Is the alien color green, yellow, or red\n",
            "yellow\n",
            "The player earns 10 points\n"
          ]
        }
      ]
    },
    {
      "cell_type": "markdown",
      "source": [
        "Exercise 3: Alien Colors #3 :ballot_box_with_check:\n",
        "\n",
        "Turn your if-else chain from Exercise 5-4 into an if-elifelse chain.\n",
        "\n",
        "•\t If the alien is green, print a message that the player earned 5 points.\n",
        "\n",
        "•\t If the alien is yellow, print a message that the player earned 10 points.\n",
        "\n",
        "•\t If the alien is red, print a message that the player earned 15 points.\n",
        "\n",
        "•\t Write three versions of this program, making sure each message is printed for the appropriate color alien.\n"
      ],
      "metadata": {
        "id": "hjEHi13DGdlz"
      }
    },
    {
      "cell_type": "code",
      "source": [
        "print('Is the alien color green, yellow, or red')\n",
        "x=str(input())\n",
        "\n",
        "if x == \"green\" :\n",
        "  print('The player earns 5 points')\n",
        "\n",
        "if x == \"yellow\" :\n",
        "  print('The player earns 10 points')\n",
        "\n",
        "else:\n",
        "  print('The player earns 15 points')"
      ],
      "metadata": {
        "colab": {
          "base_uri": "https://localhost:8080/"
        },
        "id": "P-ag_J6sG36t",
        "outputId": "a8b4c6cc-fd43-4ef3-bd93-21864c081b89"
      },
      "execution_count": null,
      "outputs": [
        {
          "output_type": "stream",
          "name": "stdout",
          "text": [
            "Is the alien color green, yellow, or red\n",
            "red\n",
            "The player earns 15 points\n"
          ]
        }
      ]
    },
    {
      "cell_type": "markdown",
      "source": [
        "Exercise 4: Stages of Life\n",
        "\n",
        "Write an if-elif-else chain that determines a person’s stage of life. Set a value for the variable age, and then:\n",
        "\n",
        "•If the person is less than 2 years old, print a message that the person is a baby.\n",
        "\n",
        "•If the person is at least 2 years old but less than 4, print a message that the person is a toddler.\n",
        "\n",
        "•If the person is at least 4 years old but less than 13, print a message that the person is a kid.\n",
        "\n",
        "•If the person is at least 13 years old but less than 20, print a message that the person is a teenager.\n",
        "\n",
        "•If the person is at least 20 years old but less than 65, print a message that the person is an adult.\n",
        "\n",
        "•If the person is age 65 or older, print a message that the person is an elder.\n"
      ],
      "metadata": {
        "id": "Hv65K76WICd5"
      }
    },
    {
      "cell_type": "code",
      "source": [
        "from pathlib import PureWindowsPath\n",
        "age = 20\n",
        "if age < 2:\n",
        "  print(\"You're a baby!\")\n",
        "\n",
        "elif age < 4:\n",
        "  print(\"You're a toddler!\")\n",
        "\n",
        "elif age < 13:\n",
        "  Print(\"You're a kid!\")\n",
        "\n",
        "elif age < 20:\n",
        "  print(\"You're a teenager!\")\n",
        "\n",
        "elif age < 65:\n",
        "  print(\"You're an adult!\")\n",
        "\n",
        "else:\n",
        "  print(\"You're an elder!\")"
      ],
      "metadata": {
        "colab": {
          "base_uri": "https://localhost:8080/"
        },
        "id": "ajNFF5bLIGKc",
        "outputId": "6c8f57e3-a7d4-4f76-9ea7-8421f114783b"
      },
      "execution_count": null,
      "outputs": [
        {
          "output_type": "stream",
          "name": "stdout",
          "text": [
            "You're an adult!\n"
          ]
        }
      ]
    },
    {
      "cell_type": "markdown",
      "source": [
        "Exercise 5: Favorite Fruit\n",
        "\n",
        "Make a list of your favorite fruits, and then write a series of independent if statements that check for certain fruits in your list.\n",
        "\n",
        "•Make a list of your three favorite fruits and call it favorite_fruits.\n",
        "\n",
        "•Write five if statements. Each should check whether a certain kind of fruit is in your list. If the fruit is in your list, the if block \n",
        "\n",
        "should print a statement,such as You really like bananas!"
      ],
      "metadata": {
        "id": "AKZSfFQeKbV6"
      }
    },
    {
      "cell_type": "code",
      "source": [
        "favorite_fruits = ['apples','bananas','grapes', 'oranges' ]\n",
        "\n",
        "if 'apples' in favorite_fruits:\n",
        "  print(\"You really like apples!\")\n",
        "\n",
        "if 'bananas' in favorite_fruits:\n",
        "  print(\"You really like bananas!\")\n",
        "\n",
        "if 'grapes' in favorite_fruits:\n",
        "  print(\"You really like grapes!\")\n",
        "\n",
        "if 'oranges' in favorite_fruits:\n",
        "  print(\"You really like oranges!\")\n",
        "\n"
      ],
      "metadata": {
        "colab": {
          "base_uri": "https://localhost:8080/"
        },
        "id": "Old43phvKtGW",
        "outputId": "5049d5c2-d57b-4be1-d80f-c54ee862af36"
      },
      "execution_count": null,
      "outputs": [
        {
          "output_type": "stream",
          "name": "stdout",
          "text": [
            "You really like apples!\n",
            "You really like bananas!\n",
            "You really like grapes!\n",
            "You really like oranges!\n"
          ]
        }
      ]
    }
  ]
}