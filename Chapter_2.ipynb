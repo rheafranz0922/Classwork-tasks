{
  "nbformat": 4,
  "nbformat_minor": 0,
  "metadata": {
    "colab": {
      "provenance": [],
      "collapsed_sections": [],
      "authorship_tag": "ABX9TyNg599hkM4+ZREESoU/4sZn",
      "include_colab_link": true
    },
    "kernelspec": {
      "name": "python3",
      "display_name": "Python 3"
    },
    "language_info": {
      "name": "python"
    }
  },
  "cells": [
    {
      "cell_type": "markdown",
      "metadata": {
        "id": "view-in-github",
        "colab_type": "text"
      },
      "source": [
        "<a href=\"https://colab.research.google.com/github/rheafranz0922/Classwork-tasks/blob/main/Chapter_2.ipynb\" target=\"_parent\"><img src=\"https://colab.research.google.com/assets/colab-badge.svg\" alt=\"Open In Colab\"/></a>"
      ]
    },
    {
      "cell_type": "markdown",
      "source": [
        "Exercise 1: Variables\n",
        "\n",
        "Type out the code below and add the correct data types to complete the variables\n",
        "\n",
        "Assign a message to a variable, and print that message.\n",
        "Then change the value of the variable to a new message, and print the new"
      ],
      "metadata": {
        "id": "HWbobCeVMr7Z"
      }
    },
    {
      "cell_type": "code",
      "source": [
        "msg = \"I love  learning program subject\"\n",
        "print(msg)\n",
        "\n",
        "msg = \"It's really good\"\n",
        "print(msg)"
      ],
      "metadata": {
        "colab": {
          "base_uri": "https://localhost:8080/"
        },
        "id": "gxp2RSBIOGJz",
        "outputId": "49a2bb6c-0006-4e02-c873-2bbaee254912"
      },
      "execution_count": null,
      "outputs": [
        {
          "output_type": "stream",
          "name": "stdout",
          "text": [
            "I love  learning program subject\n",
            "It's really good\n"
          ]
        }
      ]
    },
    {
      "cell_type": "markdown",
      "source": [
        "Excercise 2: Variables\n",
        "\n",
        "Find a quote from a famous person you admire. Print the quote and the name of its author. \n",
        "Your output should look something like the following, including the quotation marks:\n",
        "Albert Einstein once said, “A person who never made a mistake never tried anything new."
      ],
      "metadata": {
        "id": "mLlEjEarQpUA"
      }
    },
    {
      "cell_type": "code",
      "source": [
        "print('Albert Einstein once said, \"A person who never made a mistake')\n",
        "print('never tried anything new.')"
      ],
      "metadata": {
        "colab": {
          "base_uri": "https://localhost:8080/"
        },
        "id": "Z3L4vWnQQ20-",
        "outputId": "6775a61b-35ca-4f77-9ab2-485befc7c0fb"
      },
      "execution_count": null,
      "outputs": [
        {
          "output_type": "stream",
          "name": "stdout",
          "text": [
            "Albert Einstein once said, \"A person who never made a mistake\n",
            "never tried anything new.\n"
          ]
        }
      ]
    },
    {
      "cell_type": "markdown",
      "source": [
        "Excercise 3: Stripping Names\n",
        "idy up the code to make it easier to understand"
      ],
      "metadata": {
        "id": "brFXArVpSAbU"
      }
    },
    {
      "cell_type": "code",
      "source": [
        "name = \"\\tRhea Franz\\n\"\n",
        "print(\"Unmodified:\")\n",
        "print(name)\n",
        "\n",
        "print(\"\\nUsing lstrip():\")\n",
        "print(name.lstrip())\n",
        "\n",
        "print(\"\\nUsing rstrip():\")\n",
        "print(name.rstrip())\n",
        "\n",
        "print(\"\\nUsing strip():\")\n",
        "print(name.strip())"
      ],
      "metadata": {
        "colab": {
          "base_uri": "https://localhost:8080/"
        },
        "id": "Caq24jcoS3zq",
        "outputId": "96ab7600-2ae0-416d-b0ef-2eba9b4ba177"
      },
      "execution_count": null,
      "outputs": [
        {
          "output_type": "stream",
          "name": "stdout",
          "text": [
            "Unmodified:\n",
            "\tRhea Franz\n",
            "\n",
            "\n",
            "Using lstrip():\n",
            "Rhea Franz\n",
            "\n",
            "\n",
            "Using rstrip():\n",
            "\tRhea Franz\n",
            "\n",
            "Using strip():\n",
            "Rhea Franz\n"
          ]
        }
      ]
    },
    {
      "cell_type": "markdown",
      "source": [
        "Exercise 4: Favorite Number\n",
        "\n",
        "Use a variable to represent your favorite number. Then,using that variable, create a message that reveals your favorite number. Print\n",
        "that message."
      ],
      "metadata": {
        "id": "Mf7HHtvMUkLQ"
      }
    },
    {
      "cell_type": "code",
      "source": [
        "fav_num = 7\n",
        "msg = f\"My favorite number is {fav_num}.\"\n",
        "\n",
        "print(msg)"
      ],
      "metadata": {
        "colab": {
          "base_uri": "https://localhost:8080/"
        },
        "id": "uSgPWE8zVFqk",
        "outputId": "e50e5e7a-4744-47b3-b4bb-3e95c4153e1f"
      },
      "execution_count": null,
      "outputs": [
        {
          "output_type": "stream",
          "name": "stdout",
          "text": [
            "My favorite number is 7.\n"
          ]
        }
      ]
    },
    {
      "cell_type": "markdown",
      "source": [
        "Excercise 5: USB Shopper \n",
        "\n",
        "A girl heads to a computer shop to buy some USB sticks. She loves USB sticks and wants as many as she can get for £50. They are £6 each.\n",
        "Write a programme that calculates how many USB sticks she can buy and how many pounds she will have left.\n",
        "You will to use the arithmetic operators to complete this exercise.\n"
      ],
      "metadata": {
        "id": "MKTvVygUV62D"
      }
    },
    {
      "cell_type": "code",
      "source": [
        "m = 50\n",
        "ip = 6\n",
        "\n",
        "amount = int(m)/int(ip)\n",
        "cost = int(amount)*int(ip)\n",
        "change = int(m)-int(cost)\n",
        "\n",
        "print(\"the amount of items you can buy is\",int(amount))\n",
        "print(\"your leftover change is\", int(change))"
      ],
      "metadata": {
        "colab": {
          "base_uri": "https://localhost:8080/"
        },
        "id": "vHdekmvDWFSx",
        "outputId": "12f76a64-0ebd-4736-fa5b-68d325fa0066"
      },
      "execution_count": null,
      "outputs": [
        {
          "output_type": "stream",
          "name": "stdout",
          "text": [
            "the amount of items you can buy is 8\n",
            "your leftover change is 2\n"
          ]
        }
      ]
    }
  ]
}